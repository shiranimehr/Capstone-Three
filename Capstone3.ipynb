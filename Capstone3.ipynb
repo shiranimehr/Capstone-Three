{
  "nbformat": 4,
  "nbformat_minor": 0,
  "metadata": {
    "accelerator": "GPU",
    "colab": {
      "name": "Capstone3.ipynb",
      "provenance": [],
      "collapsed_sections": [],
      "machine_shape": "hm",
      "include_colab_link": true
    },
    "kernelspec": {
      "display_name": "Python 3",
      "name": "python3"
    }
  },
  "cells": [
    {
      "cell_type": "markdown",
      "metadata": {
        "id": "view-in-github",
        "colab_type": "text"
      },
      "source": [
        "<a href=\"https://colab.research.google.com/github/shiranimehr/Capstone-Three/blob/main/Capstone3.ipynb\" target=\"_parent\"><img src=\"https://colab.research.google.com/assets/colab-badge.svg\" alt=\"Open In Colab\"/></a>"
      ]
    },
    {
      "cell_type": "markdown",
      "metadata": {
        "id": "CzsC6lqGxN-s"
      },
      "source": [
        "First, we import required libraries."
      ]
    },
    {
      "cell_type": "code",
      "metadata": {
        "id": "N-lvS0N0UUvC"
      },
      "source": [
        "import pandas as pd\n",
        "import matplotlib.pyplot as plt\n",
        "import numpy as np\n",
        "import urllib\n",
        "import os.path\n",
        "from os import path\n",
        "import matplotlib.image as mpimg \n",
        "import PIL\n",
        "import random\n",
        "import datetime\n",
        "import os\n",
        "import shutil\n",
        "from google.colab import drive\n",
        "import requests\n",
        "import cv2\n",
        "import keras\n",
        "from keras.layers import Dense,GlobalAveragePooling2D\n",
        "from keras.applications import MobileNet\n",
        "from keras.preprocessing import image\n",
        "from keras.applications.mobilenet import preprocess_input\n",
        "from keras.preprocessing.image import ImageDataGenerator\n",
        "from keras.models import Model\n",
        "from keras.optimizers import Adam\n",
        "from keras.preprocessing.image import ImageDataGenerator, array_to_img, img_to_array, load_img\n",
        "from sklearn.metrics import confusion_matrix"
      ],
      "execution_count": 1,
      "outputs": []
    },
    {
      "cell_type": "markdown",
      "metadata": {
        "id": "E0mxLeKaw_zj"
      },
      "source": [
        "Mount drive:"
      ]
    },
    {
      "cell_type": "code",
      "metadata": {
        "id": "0ItFRxQvIbuW",
        "outputId": "6fe4766c-fbbe-4972-a52e-c08d1fa741fe",
        "colab": {
          "base_uri": "https://localhost:8080/",
          "height": 34
        }
      },
      "source": [
        "drive.mount('/content/drive', force_remount=True)"
      ],
      "execution_count": 2,
      "outputs": [
        {
          "output_type": "stream",
          "text": [
            "Mounted at /content/drive\n"
          ],
          "name": "stdout"
        }
      ]
    },
    {
      "cell_type": "code",
      "metadata": {
        "id": "qglSYO5fVVa9",
        "outputId": "e893bb14-3939-4882-8d00-2683098c33e2",
        "colab": {
          "base_uri": "https://localhost:8080/",
          "height": 581
        }
      },
      "source": [
        "metaData = pd.read_csv('https://raw.githubusercontent.com/ieee8023/covid-chestxray-dataset/master/metadata.csv')\n",
        "metaData.head()"
      ],
      "execution_count": 3,
      "outputs": [
        {
          "output_type": "execute_result",
          "data": {
            "text/html": [
              "<div>\n",
              "<style scoped>\n",
              "    .dataframe tbody tr th:only-of-type {\n",
              "        vertical-align: middle;\n",
              "    }\n",
              "\n",
              "    .dataframe tbody tr th {\n",
              "        vertical-align: top;\n",
              "    }\n",
              "\n",
              "    .dataframe thead th {\n",
              "        text-align: right;\n",
              "    }\n",
              "</style>\n",
              "<table border=\"1\" class=\"dataframe\">\n",
              "  <thead>\n",
              "    <tr style=\"text-align: right;\">\n",
              "      <th></th>\n",
              "      <th>patientid</th>\n",
              "      <th>offset</th>\n",
              "      <th>sex</th>\n",
              "      <th>age</th>\n",
              "      <th>finding</th>\n",
              "      <th>RT_PCR_positive</th>\n",
              "      <th>survival</th>\n",
              "      <th>intubated</th>\n",
              "      <th>intubation_present</th>\n",
              "      <th>went_icu</th>\n",
              "      <th>in_icu</th>\n",
              "      <th>needed_supplemental_O2</th>\n",
              "      <th>extubated</th>\n",
              "      <th>temperature</th>\n",
              "      <th>pO2_saturation</th>\n",
              "      <th>leukocyte_count</th>\n",
              "      <th>neutrophil_count</th>\n",
              "      <th>lymphocyte_count</th>\n",
              "      <th>view</th>\n",
              "      <th>modality</th>\n",
              "      <th>date</th>\n",
              "      <th>location</th>\n",
              "      <th>folder</th>\n",
              "      <th>filename</th>\n",
              "      <th>doi</th>\n",
              "      <th>url</th>\n",
              "      <th>license</th>\n",
              "      <th>clinical_notes</th>\n",
              "      <th>other_notes</th>\n",
              "      <th>Unnamed: 29</th>\n",
              "    </tr>\n",
              "  </thead>\n",
              "  <tbody>\n",
              "    <tr>\n",
              "      <th>0</th>\n",
              "      <td>2</td>\n",
              "      <td>0.0</td>\n",
              "      <td>M</td>\n",
              "      <td>65.0</td>\n",
              "      <td>Pneumonia/Viral/COVID-19</td>\n",
              "      <td>Y</td>\n",
              "      <td>Y</td>\n",
              "      <td>N</td>\n",
              "      <td>N</td>\n",
              "      <td>N</td>\n",
              "      <td>N</td>\n",
              "      <td>Y</td>\n",
              "      <td>NaN</td>\n",
              "      <td>NaN</td>\n",
              "      <td>NaN</td>\n",
              "      <td>NaN</td>\n",
              "      <td>NaN</td>\n",
              "      <td>NaN</td>\n",
              "      <td>PA</td>\n",
              "      <td>X-ray</td>\n",
              "      <td>January 22, 2020</td>\n",
              "      <td>Cho Ray Hospital, Ho Chi Minh City, Vietnam</td>\n",
              "      <td>images</td>\n",
              "      <td>auntminnie-a-2020_01_28_23_51_6665_2020_01_28_...</td>\n",
              "      <td>10.1056/nejmc2001272</td>\n",
              "      <td>https://www.nejm.org/doi/full/10.1056/NEJMc200...</td>\n",
              "      <td>NaN</td>\n",
              "      <td>On January 22, 2020, a 65-year-old man with a ...</td>\n",
              "      <td>NaN</td>\n",
              "      <td>NaN</td>\n",
              "    </tr>\n",
              "    <tr>\n",
              "      <th>1</th>\n",
              "      <td>2</td>\n",
              "      <td>3.0</td>\n",
              "      <td>M</td>\n",
              "      <td>65.0</td>\n",
              "      <td>Pneumonia/Viral/COVID-19</td>\n",
              "      <td>Y</td>\n",
              "      <td>Y</td>\n",
              "      <td>N</td>\n",
              "      <td>N</td>\n",
              "      <td>N</td>\n",
              "      <td>N</td>\n",
              "      <td>Y</td>\n",
              "      <td>NaN</td>\n",
              "      <td>NaN</td>\n",
              "      <td>NaN</td>\n",
              "      <td>NaN</td>\n",
              "      <td>NaN</td>\n",
              "      <td>NaN</td>\n",
              "      <td>PA</td>\n",
              "      <td>X-ray</td>\n",
              "      <td>January 25, 2020</td>\n",
              "      <td>Cho Ray Hospital, Ho Chi Minh City, Vietnam</td>\n",
              "      <td>images</td>\n",
              "      <td>auntminnie-b-2020_01_28_23_51_6665_2020_01_28_...</td>\n",
              "      <td>10.1056/nejmc2001272</td>\n",
              "      <td>https://www.nejm.org/doi/full/10.1056/NEJMc200...</td>\n",
              "      <td>NaN</td>\n",
              "      <td>On January 22, 2020, a 65-year-old man with a ...</td>\n",
              "      <td>NaN</td>\n",
              "      <td>NaN</td>\n",
              "    </tr>\n",
              "    <tr>\n",
              "      <th>2</th>\n",
              "      <td>2</td>\n",
              "      <td>5.0</td>\n",
              "      <td>M</td>\n",
              "      <td>65.0</td>\n",
              "      <td>Pneumonia/Viral/COVID-19</td>\n",
              "      <td>Y</td>\n",
              "      <td>Y</td>\n",
              "      <td>N</td>\n",
              "      <td>N</td>\n",
              "      <td>N</td>\n",
              "      <td>N</td>\n",
              "      <td>Y</td>\n",
              "      <td>NaN</td>\n",
              "      <td>NaN</td>\n",
              "      <td>NaN</td>\n",
              "      <td>NaN</td>\n",
              "      <td>NaN</td>\n",
              "      <td>NaN</td>\n",
              "      <td>PA</td>\n",
              "      <td>X-ray</td>\n",
              "      <td>January 27, 2020</td>\n",
              "      <td>Cho Ray Hospital, Ho Chi Minh City, Vietnam</td>\n",
              "      <td>images</td>\n",
              "      <td>auntminnie-c-2020_01_28_23_51_6665_2020_01_28_...</td>\n",
              "      <td>10.1056/nejmc2001272</td>\n",
              "      <td>https://www.nejm.org/doi/full/10.1056/NEJMc200...</td>\n",
              "      <td>NaN</td>\n",
              "      <td>On January 22, 2020, a 65-year-old man with a ...</td>\n",
              "      <td>NaN</td>\n",
              "      <td>NaN</td>\n",
              "    </tr>\n",
              "    <tr>\n",
              "      <th>3</th>\n",
              "      <td>2</td>\n",
              "      <td>6.0</td>\n",
              "      <td>M</td>\n",
              "      <td>65.0</td>\n",
              "      <td>Pneumonia/Viral/COVID-19</td>\n",
              "      <td>Y</td>\n",
              "      <td>Y</td>\n",
              "      <td>N</td>\n",
              "      <td>N</td>\n",
              "      <td>N</td>\n",
              "      <td>N</td>\n",
              "      <td>Y</td>\n",
              "      <td>NaN</td>\n",
              "      <td>NaN</td>\n",
              "      <td>NaN</td>\n",
              "      <td>NaN</td>\n",
              "      <td>NaN</td>\n",
              "      <td>NaN</td>\n",
              "      <td>PA</td>\n",
              "      <td>X-ray</td>\n",
              "      <td>January 28, 2020</td>\n",
              "      <td>Cho Ray Hospital, Ho Chi Minh City, Vietnam</td>\n",
              "      <td>images</td>\n",
              "      <td>auntminnie-d-2020_01_28_23_51_6665_2020_01_28_...</td>\n",
              "      <td>10.1056/nejmc2001272</td>\n",
              "      <td>https://www.nejm.org/doi/full/10.1056/NEJMc200...</td>\n",
              "      <td>NaN</td>\n",
              "      <td>On January 22, 2020, a 65-year-old man with a ...</td>\n",
              "      <td>NaN</td>\n",
              "      <td>NaN</td>\n",
              "    </tr>\n",
              "    <tr>\n",
              "      <th>4</th>\n",
              "      <td>4</td>\n",
              "      <td>0.0</td>\n",
              "      <td>F</td>\n",
              "      <td>52.0</td>\n",
              "      <td>Pneumonia/Viral/COVID-19</td>\n",
              "      <td>Y</td>\n",
              "      <td>NaN</td>\n",
              "      <td>N</td>\n",
              "      <td>N</td>\n",
              "      <td>N</td>\n",
              "      <td>N</td>\n",
              "      <td>N</td>\n",
              "      <td>NaN</td>\n",
              "      <td>NaN</td>\n",
              "      <td>NaN</td>\n",
              "      <td>NaN</td>\n",
              "      <td>NaN</td>\n",
              "      <td>NaN</td>\n",
              "      <td>PA</td>\n",
              "      <td>X-ray</td>\n",
              "      <td>January 25, 2020</td>\n",
              "      <td>Changhua Christian Hospital, Changhua City, Ta...</td>\n",
              "      <td>images</td>\n",
              "      <td>nejmc2001573_f1a.jpeg</td>\n",
              "      <td>10.1056/NEJMc2001573</td>\n",
              "      <td>https://www.nejm.org/doi/full/10.1056/NEJMc200...</td>\n",
              "      <td>NaN</td>\n",
              "      <td>diffuse infiltrates in the bilateral lower lungs</td>\n",
              "      <td>NaN</td>\n",
              "      <td>NaN</td>\n",
              "    </tr>\n",
              "  </tbody>\n",
              "</table>\n",
              "</div>"
            ],
            "text/plain": [
              "  patientid  offset  ... other_notes  Unnamed: 29\n",
              "0         2     0.0  ...         NaN          NaN\n",
              "1         2     3.0  ...         NaN          NaN\n",
              "2         2     5.0  ...         NaN          NaN\n",
              "3         2     6.0  ...         NaN          NaN\n",
              "4         4     0.0  ...         NaN          NaN\n",
              "\n",
              "[5 rows x 30 columns]"
            ]
          },
          "metadata": {
            "tags": []
          },
          "execution_count": 3
        }
      ]
    },
    {
      "cell_type": "code",
      "metadata": {
        "id": "L4710NgFVZE4",
        "outputId": "b241fc1f-3a5d-47d4-86e9-9784145e85fc",
        "colab": {
          "base_uri": "https://localhost:8080/",
          "height": 297
        }
      },
      "source": [
        "metaData.describe()\n"
      ],
      "execution_count": 4,
      "outputs": [
        {
          "output_type": "execute_result",
          "data": {
            "text/html": [
              "<div>\n",
              "<style scoped>\n",
              "    .dataframe tbody tr th:only-of-type {\n",
              "        vertical-align: middle;\n",
              "    }\n",
              "\n",
              "    .dataframe tbody tr th {\n",
              "        vertical-align: top;\n",
              "    }\n",
              "\n",
              "    .dataframe thead th {\n",
              "        text-align: right;\n",
              "    }\n",
              "</style>\n",
              "<table border=\"1\" class=\"dataframe\">\n",
              "  <thead>\n",
              "    <tr style=\"text-align: right;\">\n",
              "      <th></th>\n",
              "      <th>offset</th>\n",
              "      <th>age</th>\n",
              "      <th>temperature</th>\n",
              "      <th>pO2_saturation</th>\n",
              "      <th>leukocyte_count</th>\n",
              "      <th>neutrophil_count</th>\n",
              "      <th>lymphocyte_count</th>\n",
              "    </tr>\n",
              "  </thead>\n",
              "  <tbody>\n",
              "    <tr>\n",
              "      <th>count</th>\n",
              "      <td>697.000000</td>\n",
              "      <td>713.000000</td>\n",
              "      <td>78.000000</td>\n",
              "      <td>119.000000</td>\n",
              "      <td>16.000000</td>\n",
              "      <td>28.000000</td>\n",
              "      <td>40.000000</td>\n",
              "    </tr>\n",
              "    <tr>\n",
              "      <th>mean</th>\n",
              "      <td>9.083214</td>\n",
              "      <td>53.534362</td>\n",
              "      <td>38.898718</td>\n",
              "      <td>78.475630</td>\n",
              "      <td>5.024375</td>\n",
              "      <td>5.307143</td>\n",
              "      <td>4.638050</td>\n",
              "    </tr>\n",
              "    <tr>\n",
              "      <th>std</th>\n",
              "      <td>31.664077</td>\n",
              "      <td>16.949007</td>\n",
              "      <td>6.494383</td>\n",
              "      <td>38.742573</td>\n",
              "      <td>2.660341</td>\n",
              "      <td>3.489956</td>\n",
              "      <td>20.550033</td>\n",
              "    </tr>\n",
              "    <tr>\n",
              "      <th>min</th>\n",
              "      <td>-360.000000</td>\n",
              "      <td>18.000000</td>\n",
              "      <td>36.000000</td>\n",
              "      <td>20.000000</td>\n",
              "      <td>0.220000</td>\n",
              "      <td>0.000000</td>\n",
              "      <td>0.400000</td>\n",
              "    </tr>\n",
              "    <tr>\n",
              "      <th>25%</th>\n",
              "      <td>1.000000</td>\n",
              "      <td>40.000000</td>\n",
              "      <td>37.800000</td>\n",
              "      <td>55.000000</td>\n",
              "      <td>3.067500</td>\n",
              "      <td>2.725000</td>\n",
              "      <td>0.746500</td>\n",
              "    </tr>\n",
              "    <tr>\n",
              "      <th>50%</th>\n",
              "      <td>5.000000</td>\n",
              "      <td>54.000000</td>\n",
              "      <td>38.150000</td>\n",
              "      <td>85.000000</td>\n",
              "      <td>4.745000</td>\n",
              "      <td>4.800000</td>\n",
              "      <td>1.100000</td>\n",
              "    </tr>\n",
              "    <tr>\n",
              "      <th>75%</th>\n",
              "      <td>10.000000</td>\n",
              "      <td>68.000000</td>\n",
              "      <td>38.975000</td>\n",
              "      <td>95.000000</td>\n",
              "      <td>6.857500</td>\n",
              "      <td>6.925000</td>\n",
              "      <td>1.600000</td>\n",
              "    </tr>\n",
              "    <tr>\n",
              "      <th>max</th>\n",
              "      <td>365.000000</td>\n",
              "      <td>94.000000</td>\n",
              "      <td>95.000000</td>\n",
              "      <td>340.000000</td>\n",
              "      <td>11.200000</td>\n",
              "      <td>12.900000</td>\n",
              "      <td>131.000000</td>\n",
              "    </tr>\n",
              "  </tbody>\n",
              "</table>\n",
              "</div>"
            ],
            "text/plain": [
              "           offset         age  ...  neutrophil_count  lymphocyte_count\n",
              "count  697.000000  713.000000  ...         28.000000         40.000000\n",
              "mean     9.083214   53.534362  ...          5.307143          4.638050\n",
              "std     31.664077   16.949007  ...          3.489956         20.550033\n",
              "min   -360.000000   18.000000  ...          0.000000          0.400000\n",
              "25%      1.000000   40.000000  ...          2.725000          0.746500\n",
              "50%      5.000000   54.000000  ...          4.800000          1.100000\n",
              "75%     10.000000   68.000000  ...          6.925000          1.600000\n",
              "max    365.000000   94.000000  ...         12.900000        131.000000\n",
              "\n",
              "[8 rows x 7 columns]"
            ]
          },
          "metadata": {
            "tags": []
          },
          "execution_count": 4
        }
      ]
    },
    {
      "cell_type": "code",
      "metadata": {
        "id": "gpwmLQWEVbxH",
        "outputId": "ef8bbe76-fab5-4109-84d2-4373e66919dc",
        "colab": {
          "base_uri": "https://localhost:8080/",
          "height": 646
        }
      },
      "source": [
        "metaData.info()"
      ],
      "execution_count": 5,
      "outputs": [
        {
          "output_type": "stream",
          "text": [
            "<class 'pandas.core.frame.DataFrame'>\n",
            "RangeIndex: 950 entries, 0 to 949\n",
            "Data columns (total 30 columns):\n",
            " #   Column                  Non-Null Count  Dtype  \n",
            "---  ------                  --------------  -----  \n",
            " 0   patientid               950 non-null    object \n",
            " 1   offset                  697 non-null    float64\n",
            " 2   sex                     870 non-null    object \n",
            " 3   age                     713 non-null    float64\n",
            " 4   finding                 950 non-null    object \n",
            " 5   RT_PCR_positive         593 non-null    object \n",
            " 6   survival                361 non-null    object \n",
            " 7   intubated               248 non-null    object \n",
            " 8   intubation_present      250 non-null    object \n",
            " 9   went_icu                397 non-null    object \n",
            " 10  in_icu                  335 non-null    object \n",
            " 11  needed_supplemental_O2  90 non-null     object \n",
            " 12  extubated               37 non-null     object \n",
            " 13  temperature             78 non-null     float64\n",
            " 14  pO2_saturation          119 non-null    float64\n",
            " 15  leukocyte_count         16 non-null     float64\n",
            " 16  neutrophil_count        28 non-null     float64\n",
            " 17  lymphocyte_count        40 non-null     float64\n",
            " 18  view                    950 non-null    object \n",
            " 19  modality                950 non-null    object \n",
            " 20  date                    661 non-null    object \n",
            " 21  location                894 non-null    object \n",
            " 22  folder                  950 non-null    object \n",
            " 23  filename                950 non-null    object \n",
            " 24  doi                     382 non-null    object \n",
            " 25  url                     950 non-null    object \n",
            " 26  license                 705 non-null    object \n",
            " 27  clinical_notes          768 non-null    object \n",
            " 28  other_notes             436 non-null    object \n",
            " 29  Unnamed: 29             5 non-null      object \n",
            "dtypes: float64(7), object(23)\n",
            "memory usage: 222.8+ KB\n"
          ],
          "name": "stdout"
        }
      ]
    },
    {
      "cell_type": "code",
      "metadata": {
        "id": "IzgbA4hPVdiM"
      },
      "source": [
        "metaData['date'].fillna(method='ffill', inplace=True)"
      ],
      "execution_count": 6,
      "outputs": []
    },
    {
      "cell_type": "markdown",
      "metadata": {
        "id": "AMeIeiXjxoTc"
      },
      "source": [
        "Drop extra columns:"
      ]
    },
    {
      "cell_type": "code",
      "metadata": {
        "id": "xgDM9hNTViVD"
      },
      "source": [
        "drop_column_list = ['needed_supplemental_O2', 'extubated', \n",
        "                    'temperature', 'pO2_saturation', 'leukocyte_count',\n",
        "                    'neutrophil_count', 'lymphocyte_count',\n",
        "                    'doi','url', 'license', 'clinical_notes', 'other_notes']\n",
        "metaData.drop(drop_column_list, axis=1, inplace=True)"
      ],
      "execution_count": 7,
      "outputs": []
    },
    {
      "cell_type": "markdown",
      "metadata": {
        "id": "k81B4DbzxtO7"
      },
      "source": [
        "Fill NAs:"
      ]
    },
    {
      "cell_type": "code",
      "metadata": {
        "id": "HR5-Y5VZVlEa"
      },
      "source": [
        "metaData['sex'].fillna('Unknown', inplace=True)\n",
        "metaData['RT_PCR_positive'].fillna('Unknown', inplace=True)\n",
        "metaData['survival'].fillna('Unknown', inplace=True)\n",
        "metaData['intubated'].fillna('Unknown', inplace=True)\n",
        "metaData['intubation_present'].fillna('Unknown', inplace=True)\n",
        "metaData['went_icu'].fillna('Unknown', inplace=True)\n",
        "metaData['in_icu'].fillna('Unknown', inplace=True)\n",
        "metaData['location'].fillna('Unknown', inplace=True)"
      ],
      "execution_count": 8,
      "outputs": []
    },
    {
      "cell_type": "code",
      "metadata": {
        "id": "zsMcPQJAVnEm"
      },
      "source": [
        "metaData['offset'].fillna(np.mean(metaData['offset']), inplace=True)\n",
        "metaData['age'].fillna(np.mean(metaData['age']), inplace=True)"
      ],
      "execution_count": 9,
      "outputs": []
    },
    {
      "cell_type": "code",
      "metadata": {
        "id": "P6I0CSOZVpIL",
        "outputId": "23ba6959-7e74-4571-d70f-04e6da0a9047",
        "colab": {
          "base_uri": "https://localhost:8080/",
          "height": 442
        }
      },
      "source": [
        " metaData.info()"
      ],
      "execution_count": 10,
      "outputs": [
        {
          "output_type": "stream",
          "text": [
            "<class 'pandas.core.frame.DataFrame'>\n",
            "RangeIndex: 950 entries, 0 to 949\n",
            "Data columns (total 18 columns):\n",
            " #   Column              Non-Null Count  Dtype  \n",
            "---  ------              --------------  -----  \n",
            " 0   patientid           950 non-null    object \n",
            " 1   offset              950 non-null    float64\n",
            " 2   sex                 950 non-null    object \n",
            " 3   age                 950 non-null    float64\n",
            " 4   finding             950 non-null    object \n",
            " 5   RT_PCR_positive     950 non-null    object \n",
            " 6   survival            950 non-null    object \n",
            " 7   intubated           950 non-null    object \n",
            " 8   intubation_present  950 non-null    object \n",
            " 9   went_icu            950 non-null    object \n",
            " 10  in_icu              950 non-null    object \n",
            " 11  view                950 non-null    object \n",
            " 12  modality            950 non-null    object \n",
            " 13  date                950 non-null    object \n",
            " 14  location            950 non-null    object \n",
            " 15  folder              950 non-null    object \n",
            " 16  filename            950 non-null    object \n",
            " 17  Unnamed: 29         5 non-null      object \n",
            "dtypes: float64(2), object(16)\n",
            "memory usage: 133.7+ KB\n"
          ],
          "name": "stdout"
        }
      ]
    },
    {
      "cell_type": "markdown",
      "metadata": {
        "id": "_bK4hK9TxwN9"
      },
      "source": [
        "Check for duplicates:"
      ]
    },
    {
      "cell_type": "code",
      "metadata": {
        "id": "_KqfDeRvVr36"
      },
      "source": [
        "metaData.drop_duplicates(inplace=True)"
      ],
      "execution_count": 11,
      "outputs": []
    },
    {
      "cell_type": "code",
      "metadata": {
        "id": "9DLSvYqEVvR6",
        "outputId": "dca64436-9feb-426c-8c8c-dea735f15807",
        "colab": {
          "base_uri": "https://localhost:8080/",
          "height": 221
        }
      },
      "source": [
        "metaData['finding'].unique()"
      ],
      "execution_count": 12,
      "outputs": [
        {
          "output_type": "execute_result",
          "data": {
            "text/plain": [
              "array(['Pneumonia/Viral/COVID-19', 'Pneumonia', 'Pneumonia/Viral/SARS',\n",
              "       'Pneumonia/Fungal/Pneumocystis',\n",
              "       'Pneumonia/Bacterial/Streptococcus', 'No Finding',\n",
              "       'Pneumonia/Bacterial/Chlamydophila', 'Pneumonia/Bacterial/E.Coli',\n",
              "       'Pneumonia/Bacterial/Klebsiella', 'Pneumonia/Bacterial/Legionella',\n",
              "       'Unknown', 'Pneumonia/Lipoid', 'Pneumonia/Viral/Varicella',\n",
              "       'Pneumonia/Bacterial', 'Pneumonia/Bacterial/Mycoplasma',\n",
              "       'Pneumonia/Viral/Influenza', 'todo', 'Tuberculosis',\n",
              "       'Pneumonia/Viral/Influenza/H1N1', 'Pneumonia/Fungal/Aspergillosis',\n",
              "       'Pneumonia/Viral/Herpes ', 'Pneumonia/Aspiration',\n",
              "       'Pneumonia/Bacterial/Nocardia', 'Pneumonia/Viral/MERS-CoV',\n",
              "       'Pneumonia/Bacterial/Staphylococcus/MRSA'], dtype=object)"
            ]
          },
          "metadata": {
            "tags": []
          },
          "execution_count": 12
        }
      ]
    },
    {
      "cell_type": "markdown",
      "metadata": {
        "id": "jjSIQOrBx3Ja"
      },
      "source": [
        "Add a binary column for COVID-19: "
      ]
    },
    {
      "cell_type": "code",
      "metadata": {
        "id": "jaZUDqghVwvM"
      },
      "source": [
        "metaData['COVID-19'] = metaData['finding'].apply(lambda x: True if ('COVID-19' in x) else False)"
      ],
      "execution_count": 13,
      "outputs": []
    },
    {
      "cell_type": "markdown",
      "metadata": {
        "id": "k5JnsCX4yArE"
      },
      "source": [
        "Get images and drop records with no image:"
      ]
    },
    {
      "cell_type": "code",
      "metadata": {
        "id": "aAx0LClUVzB_",
        "outputId": "af020c4e-a695-4d2b-ce73-2191a600cd1a",
        "colab": {
          "base_uri": "https://localhost:8080/",
          "height": 374
        }
      },
      "source": [
        "#image_directory = '../Data/images'\n",
        "url = \"https://raw.githubusercontent.com/ieee8023/covid-chestxray-dataset/master/images/\"\n",
        "\n",
        "remove_row_list = []\n",
        "for i in range(metaData.shape[0]):\n",
        "    filename = metaData.iloc[i,:]['filename']\n",
        "    try:\n",
        "      ret = urllib.request.urlopen(url+filename)\n",
        "    except:\n",
        "      print(i, filename, \"not found\")\n",
        "      remove_row_list.append(i)\n",
        "\n",
        "metaData.drop(remove_row_list, axis=0, inplace=True)"
      ],
      "execution_count": 14,
      "outputs": [
        {
          "output_type": "stream",
          "text": [
            "53 radiopaedia_org_covid-19-pneumonia-7_85703_0-dcm.nii.gz not found\n",
            "56 radiopaedia_org_covid-19-pneumonia-14_85914_0-dcm.nii.gz not found\n",
            "225 coronacases_org_001.nii.gz not found\n",
            "226 coronacases_org_002.nii.gz not found\n",
            "227 coronacases_org_003.nii.gz not found\n",
            "228 coronacases_org_004.nii.gz not found\n",
            "229 coronacases_org_005.nii.gz not found\n",
            "230 coronacases_org_006.nii.gz not found\n",
            "231 coronacases_org_007.nii.gz not found\n",
            "232 coronacases_org_008.nii.gz not found\n",
            "233 coronacases_org_009.nii.gz not found\n",
            "234 coronacases_org_010.nii.gz not found\n",
            "235 radiopaedia_org_covid-19-pneumonia-4_85506_1-dcm.nii.gz not found\n",
            "236 radiopaedia_org_covid-19-pneumonia-29_86490_1-dcm.nii.gz not found\n",
            "237 radiopaedia_org_covid-19-pneumonia-29_86491_1-dcm.nii.gz not found\n",
            "241 radiopaedia_org_covid-19-pneumonia-23_86359_0-dcm.nii.gz not found\n",
            "242 radiopaedia_org_covid-19-pneumonia-10_85902_1-dcm.nii.gz not found\n",
            "243 radiopaedia_org_covid-19-pneumonia-10_85902_3-dcm.nii.gz not found\n",
            "244 radiopaedia_org_covid-19-pneumonia-36_86526_0-dcm.nii.gz not found\n",
            "245 radiopaedia_org_covid-19-pneumonia-27_86410_0-dcm.nii.gz not found\n",
            "246 radiopaedia_org_covid-19-pneumonia-40_86625_0-dcm.nii.gz not found\n"
          ],
          "name": "stdout"
        }
      ]
    },
    {
      "cell_type": "code",
      "metadata": {
        "id": "9bGdFTYXV2c9",
        "outputId": "c82fd79c-dc2b-45bb-ff84-3b5fc39ba272",
        "colab": {
          "base_uri": "https://localhost:8080/",
          "height": 34
        }
      },
      "source": [
        "metaData.shape"
      ],
      "execution_count": 15,
      "outputs": [
        {
          "output_type": "execute_result",
          "data": {
            "text/plain": [
              "(929, 19)"
            ]
          },
          "metadata": {
            "tags": []
          },
          "execution_count": 15
        }
      ]
    },
    {
      "cell_type": "code",
      "metadata": {
        "id": "RvBSTLS8WADs",
        "outputId": "94ffe3f8-9151-4864-a591-ad2a7374265c",
        "colab": {
          "base_uri": "https://localhost:8080/",
          "height": 459
        }
      },
      "source": [
        "metaData.info()"
      ],
      "execution_count": 16,
      "outputs": [
        {
          "output_type": "stream",
          "text": [
            "<class 'pandas.core.frame.DataFrame'>\n",
            "Int64Index: 929 entries, 0 to 949\n",
            "Data columns (total 19 columns):\n",
            " #   Column              Non-Null Count  Dtype  \n",
            "---  ------              --------------  -----  \n",
            " 0   patientid           929 non-null    object \n",
            " 1   offset              929 non-null    float64\n",
            " 2   sex                 929 non-null    object \n",
            " 3   age                 929 non-null    float64\n",
            " 4   finding             929 non-null    object \n",
            " 5   RT_PCR_positive     929 non-null    object \n",
            " 6   survival            929 non-null    object \n",
            " 7   intubated           929 non-null    object \n",
            " 8   intubation_present  929 non-null    object \n",
            " 9   went_icu            929 non-null    object \n",
            " 10  in_icu              929 non-null    object \n",
            " 11  view                929 non-null    object \n",
            " 12  modality            929 non-null    object \n",
            " 13  date                929 non-null    object \n",
            " 14  location            929 non-null    object \n",
            " 15  folder              929 non-null    object \n",
            " 16  filename            929 non-null    object \n",
            " 17  Unnamed: 29         5 non-null      object \n",
            " 18  COVID-19            929 non-null    bool   \n",
            "dtypes: bool(1), float64(2), object(16)\n",
            "memory usage: 138.8+ KB\n"
          ],
          "name": "stdout"
        }
      ]
    },
    {
      "cell_type": "markdown",
      "metadata": {
        "id": "Ng63ERfBIivs"
      },
      "source": [
        "Copying images to two folders: Positive and Negative:"
      ]
    },
    {
      "cell_type": "code",
      "metadata": {
        "id": "NGDO8EDHWC_x",
        "outputId": "f91e73e0-6526-4d5a-c9dd-b757a071a338",
        "colab": {
          "base_uri": "https://localhost:8080/",
          "height": 51
        }
      },
      "source": [
        "dstDir = '/content/drive/My Drive/Capstone3-Images'\n",
        "posCls = '/Positive'\n",
        "negCls = '/Negative'\n",
        "os.makedirs(dstDir+posCls)\n",
        "os.makedirs(dstDir+negCls)\n",
        "\n",
        "covid_positive = metaData[metaData['COVID-19']]\n",
        "print('Number of positive cases:', len(covid_positive) )\n",
        "for i in range(len(covid_positive)):\n",
        "    #print(i+1, 'of', len(covid_positive))\n",
        "    filename = covid_positive.iloc[i,:]['filename']\n",
        "    r = requests.get(url+filename, stream = True)  \n",
        "    with open(dstDir+posCls+\"/\"+filename, \"wb\") as file:  \n",
        "      for block in r.iter_content(chunk_size = 1024): \n",
        "         if block:  \n",
        "             file.write(block)\n",
        "\n",
        "covid_negative = metaData[metaData['COVID-19']==False]\n",
        "print('Number of negative cases:', len(covid_negative) )\n",
        "for i in range(len(covid_negative)):\n",
        "    filename = covid_negative.iloc[i,:]['filename']\n",
        "    #print(i+1, 'of', len(covid_negative))\n",
        "    r = requests.get(url+filename, stream = True)  \n",
        "    with open(dstDir+negCls+\"/\"+filename, \"wb\") as file:  \n",
        "      for block in r.iter_content(chunk_size = 1024): \n",
        "         if block:  \n",
        "             file.write(block)"
      ],
      "execution_count": 17,
      "outputs": [
        {
          "output_type": "stream",
          "text": [
            "Number of positive cases: 563\n",
            "Number of negative cases: 366\n"
          ],
          "name": "stdout"
        }
      ]
    },
    {
      "cell_type": "markdown",
      "metadata": {
        "id": "psOQINKkIXUH"
      },
      "source": [
        "Next, let's change all image sizes to 256x256."
      ]
    },
    {
      "cell_type": "code",
      "metadata": {
        "id": "JRtCp-kReTKW"
      },
      "source": [
        "srcDir = '/content/drive/My Drive/Capstone3-Images'\n",
        "dstDir = '/content/drive/My Drive/Capstone3-Images-Resized'\n",
        "os.makedirs(dstDir+posCls)\n",
        "os.makedirs(dstDir+negCls)\n",
        "\n",
        "for i in range(len(covid_positive)):\n",
        "    filename = covid_positive.iloc[i,:]['filename']\n",
        "    im = cv2.imread(srcDir+posCls+\"/\"+filename)\n",
        "    resized = cv2.resize(im, (256,256))\n",
        "    cv2.imwrite(dstDir+posCls+\"/\"+filename, resized)\n",
        "\n",
        "for i in range(len(covid_negative)):\n",
        "    filename = covid_negative.iloc[i,:]['filename']\n",
        "    im = cv2.imread(srcDir+negCls+\"/\"+filename)\n",
        "    resized = cv2.resize(im, (256,256))\n",
        "    cv2.imwrite(dstDir+negCls+\"/\"+filename, resized)"
      ],
      "execution_count": 18,
      "outputs": []
    },
    {
      "cell_type": "markdown",
      "metadata": {
        "id": "pHLqJw2ICR3-"
      },
      "source": [
        "Split images into train, validation and test:"
      ]
    },
    {
      "cell_type": "code",
      "metadata": {
        "id": "0ChhflMlCRdF",
        "outputId": "af99cf9a-0e31-43df-ed7f-d1abf7e8c0f9",
        "colab": {
          "base_uri": "https://localhost:8080/",
          "height": 187
        }
      },
      "source": [
        "# Creating Train / Val / Test folders (One time use)\n",
        "root_dir = '/content/drive/My Drive/Capstone3-Images-Split'\n",
        "posCls = '/Positive'\n",
        "negCls = '/Negative'\n",
        "\n",
        "os.makedirs(root_dir +'/train' + posCls)\n",
        "os.makedirs(root_dir +'/train' + negCls)\n",
        "os.makedirs(root_dir +'/val' + posCls)\n",
        "os.makedirs(root_dir +'/val' + negCls)\n",
        "os.makedirs(root_dir +'/test' + posCls)\n",
        "os.makedirs(root_dir +'/test' + negCls)\n",
        "\n",
        "currentCls = posCls\n",
        "src = \"/content/drive/My Drive/Capstone3-Images-Resized\"+currentCls\n",
        "\n",
        "allFileNames = os.listdir(src)\n",
        "np.random.shuffle(allFileNames)\n",
        "train_FileNames, val_FileNames, test_FileNames = np.split(np.array(allFileNames),\n",
        "                                                          [int(len(allFileNames)*0.7), int(len(allFileNames)*0.85)])\n",
        "\n",
        "train_FileNames = [src+'/'+ name for name in train_FileNames.tolist()]\n",
        "val_FileNames = [src+'/' + name for name in val_FileNames.tolist()]\n",
        "test_FileNames = [src+'/' + name for name in test_FileNames.tolist()]\n",
        "\n",
        "print('Positive class')\n",
        "print('Total images: ', len(allFileNames))\n",
        "print('Training: ', len(train_FileNames))\n",
        "print('Validation: ', len(val_FileNames))\n",
        "print('Testing: ', len(test_FileNames))\n",
        "\n",
        "for name in train_FileNames:\n",
        "    shutil.copy(name, root_dir+\"/train\"+currentCls)\n",
        "\n",
        "for name in val_FileNames:\n",
        "    shutil.copy(name, root_dir+\"/val\"+currentCls)\n",
        "\n",
        "for name in test_FileNames:\n",
        "    shutil.copy(name, root_dir+\"/test\"+currentCls)\n",
        "\n",
        "currentCls = negCls\n",
        "src = \"/content/drive/My Drive/Capstone3-Images-Resized\"+currentCls\n",
        "\n",
        "allFileNames = os.listdir(src)\n",
        "np.random.shuffle(allFileNames)\n",
        "train_FileNames, val_FileNames, test_FileNames = np.split(np.array(allFileNames),\n",
        "                                                          [int(len(allFileNames)*0.7), int(len(allFileNames)*0.85)])\n",
        "train_FileNames = [src+'/'+ name for name in train_FileNames.tolist()]\n",
        "val_FileNames = [src+'/' + name for name in val_FileNames.tolist()]\n",
        "test_FileNames = [src+'/' + name for name in test_FileNames.tolist()]\n",
        "\n",
        "print('Negative class')\n",
        "print('Total images: ', len(allFileNames))\n",
        "print('Training: ', len(train_FileNames))\n",
        "print('Validation: ', len(val_FileNames))\n",
        "print('Testing: ', len(test_FileNames))\n",
        "\n",
        "for name in train_FileNames:\n",
        "    shutil.copy(name, root_dir+\"/train\"+currentCls)\n",
        "\n",
        "for name in val_FileNames:\n",
        "    shutil.copy(name, root_dir+\"/val\"+currentCls)\n",
        "\n",
        "for name in test_FileNames:\n",
        "    shutil.copy(name, root_dir+\"/test\"+currentCls)\n"
      ],
      "execution_count": 19,
      "outputs": [
        {
          "output_type": "stream",
          "text": [
            "Positive class\n",
            "Total images:  563\n",
            "Training:  394\n",
            "Validation:  84\n",
            "Testing:  85\n",
            "Negative class\n",
            "Total images:  366\n",
            "Training:  256\n",
            "Validation:  55\n",
            "Testing:  55\n"
          ],
          "name": "stdout"
        }
      ]
    },
    {
      "cell_type": "markdown",
      "metadata": {
        "id": "hVCZxvUXSwlS"
      },
      "source": [
        "Augmente training set."
      ]
    },
    {
      "cell_type": "code",
      "metadata": {
        "id": "-TN_5tAFSxq4"
      },
      "source": [
        "datagen = ImageDataGenerator(\n",
        "        rotation_range=40,\n",
        "        width_shift_range=0.2,\n",
        "        height_shift_range=0.2,\n",
        "        shear_range=0.2,\n",
        "        zoom_range=0.2,\n",
        "        horizontal_flip=True,\n",
        "        fill_mode='nearest')\n",
        "\n",
        "srcDirPos = '/content/drive/My Drive/Capstone3-Images-Split/train/Positive/'\n",
        "dstDirPos = srcDirPos\n",
        "\n",
        "allFileNames = os.listdir(srcDirPos)\n",
        "\n",
        "for i in range(len(allFileNames)):\n",
        "    #print(i+1,' of ', len(allFileNames))\n",
        "    filename = allFileNames[i]\n",
        "    img = load_img(srcDirPos+filename) \n",
        "    x = img_to_array(img)\n",
        "    x = x.reshape((1,) + x.shape) \n",
        "    \n",
        "    l = 0\n",
        "    for batch in datagen.flow(x, batch_size=1, save_to_dir=dstDirPos, \n",
        "                              save_prefix=filename.split('.')[0], save_format='jpeg'):\n",
        "      l += 1\n",
        "      if l > 10:\n",
        "          break\n",
        "          \n",
        "srcDirNeg = '/content/drive/My Drive/Capstone3-Images-Split/train/Negative/'\n",
        "dstDirNeg = srcDirNeg\n",
        "\n",
        "allFileNames = os.listdir(srcDirNeg)\n",
        "\n",
        "for i in range(len(allFileNames)):\n",
        "    #print(i+1,' of ', len(allFileNames))\n",
        "    filename = allFileNames[i]\n",
        "    img = load_img(srcDirNeg+filename) \n",
        "    x = img_to_array(img)\n",
        "    x = x.reshape((1,) + x.shape)\n",
        "    \n",
        "    l = 0\n",
        "    for batch in datagen.flow(x, batch_size=1, save_to_dir=dstDirNeg, \n",
        "                              save_prefix=filename.split('.')[0], save_format='jpeg'):\n",
        "      l += 1\n",
        "      if l > 10:\n",
        "          break\n",
        "          \n"
      ],
      "execution_count": 20,
      "outputs": []
    },
    {
      "cell_type": "markdown",
      "metadata": {
        "id": "J8KmS04DJKrN"
      },
      "source": [
        "Define base model and freeze it:"
      ]
    },
    {
      "cell_type": "code",
      "metadata": {
        "id": "yFuKhjjcJGDJ",
        "outputId": "c833437a-3e93-497a-c76f-93bce1874921",
        "colab": {
          "base_uri": "https://localhost:8080/",
          "height": 68
        }
      },
      "source": [
        "base_model = MobileNet(weights='imagenet',include_top=False)\n",
        "\n",
        "# Freeze the base_model\n",
        "base_model.trainable = False"
      ],
      "execution_count": 21,
      "outputs": [
        {
          "output_type": "stream",
          "text": [
            "WARNING:tensorflow:`input_shape` is undefined or non-square, or `rows` is not in [128, 160, 192, 224]. Weights for input shape (224, 224) will be loaded as the default.\n",
            "Downloading data from https://storage.googleapis.com/tensorflow/keras-applications/mobilenet/mobilenet_1_0_224_tf_no_top.h5\n",
            "17227776/17225924 [==============================] - 1s 0us/step\n"
          ],
          "name": "stdout"
        }
      ]
    },
    {
      "cell_type": "markdown",
      "metadata": {
        "id": "YmJstgypJT8U"
      },
      "source": [
        "Create new model on top of the base model:"
      ]
    },
    {
      "cell_type": "code",
      "metadata": {
        "id": "0rp6PH6PDrAm"
      },
      "source": [
        "x = base_model.output\n",
        "x = GlobalAveragePooling2D()(x)\n",
        "x = Dense(1024,activation='relu')(x)\n",
        "x = keras.layers.Dropout(0.6)(x)\n",
        "preds = Dense(2,activation='softmax')(x)\n",
        "model1 = Model(inputs=base_model.input,outputs=preds)\n",
        "\n",
        "x = base_model.output\n",
        "x = GlobalAveragePooling2D()(x)\n",
        "x = Dense(1024,activation='relu')(x)\n",
        "x = keras.layers.Dropout(0.7)(x)\n",
        "preds = Dense(2,activation='softmax')(x)\n",
        "model2 = Model(inputs=base_model.input,outputs=preds)\n",
        "\n",
        "#model.summary()"
      ],
      "execution_count": 22,
      "outputs": []
    },
    {
      "cell_type": "markdown",
      "metadata": {
        "id": "DkZHSg9-JnM1"
      },
      "source": [
        "Split images into train and validation:"
      ]
    },
    {
      "cell_type": "code",
      "metadata": {
        "id": "S-ZrzxdXJ_LC",
        "outputId": "c6fe9cb4-4cee-4bca-f49e-24fb0ed0e8dc",
        "colab": {
          "base_uri": "https://localhost:8080/",
          "height": 68
        }
      },
      "source": [
        "datagen = ImageDataGenerator(preprocessing_function=preprocess_input)\n",
        "\n",
        "\n",
        "train_generator = datagen.flow_from_directory(\n",
        "    directory=root_dir+\"/train/\",\n",
        "    target_size=(256,256),\n",
        "    color_mode=\"rgb\",\n",
        "    batch_size=32,\n",
        "    class_mode=\"categorical\",\n",
        "    shuffle=True,\n",
        "    seed=42\n",
        ")\n",
        "\n",
        "\n",
        "valid_generator = datagen.flow_from_directory(\n",
        "    directory=root_dir+\"/val/\",\n",
        "    target_size=(256,256),\n",
        "    color_mode=\"rgb\",\n",
        "    batch_size=32,\n",
        "    class_mode=\"categorical\",\n",
        "    shuffle=True,\n",
        "    seed=42\n",
        ")\n",
        "\n",
        "test_generator = datagen.flow_from_directory(\n",
        "    directory=root_dir+\"/test/\",\n",
        "    target_size=(256,256),\n",
        "    color_mode=\"rgb\",\n",
        "    batch_size=1,\n",
        "    class_mode='categorical',\n",
        "    shuffle=False,\n",
        "    seed=42\n",
        ")\n"
      ],
      "execution_count": 23,
      "outputs": [
        {
          "output_type": "stream",
          "text": [
            "Found 7789 images belonging to 2 classes.\n",
            "Found 139 images belonging to 2 classes.\n",
            "Found 140 images belonging to 2 classes.\n"
          ],
          "name": "stdout"
        }
      ]
    },
    {
      "cell_type": "markdown",
      "metadata": {
        "id": "ByG1HiUOJ6Rr"
      },
      "source": [
        "Fitting/training the top layer for different models:"
      ]
    },
    {
      "cell_type": "code",
      "metadata": {
        "id": "r7JoKFg9Ly-6",
        "outputId": "52a2982e-5008-41ae-f698-37437b7429fe",
        "colab": {
          "base_uri": "https://localhost:8080/",
          "height": 765
        }
      },
      "source": [
        "epochs = 10\n",
        "\n",
        "STEP_SIZE_TRAIN=train_generator.n//train_generator.batch_size\n",
        "STEP_SIZE_VALID=valid_generator.n//valid_generator.batch_size\n",
        "\n",
        "print(\"========================================================\")\n",
        "print(\"Model 1:\")\n",
        "model1.compile(\n",
        "    optimizer=keras.optimizers.Adam(),\n",
        "    loss='categorical_crossentropy',\n",
        "    metrics=['accuracy'],\n",
        ")\n",
        "history1 = model1.fit(train_generator,\n",
        "                      steps_per_epoch=STEP_SIZE_TRAIN,\n",
        "                      validation_data=valid_generator,\n",
        "                      validation_steps=STEP_SIZE_VALID,\n",
        "                      epochs=epochs)\n",
        "\n",
        "print(\"========================================================\")\n",
        "print(\"Model 2:\")\n",
        "model2.compile(\n",
        "    optimizer=keras.optimizers.Adam(),\n",
        "    loss='categorical_crossentropy',\n",
        "    metrics=['accuracy'],\n",
        ")\n",
        "history2 = model2.fit(train_generator,\n",
        "                      steps_per_epoch=STEP_SIZE_TRAIN,\n",
        "                      validation_data=valid_generator,\n",
        "                      validation_steps=STEP_SIZE_VALID,\n",
        "                      epochs=epochs)\n",
        "\n"
      ],
      "execution_count": 24,
      "outputs": [
        {
          "output_type": "stream",
          "text": [
            "========================================================\n",
            "Model 1:\n",
            "Epoch 1/10\n",
            "243/243 [==============================] - 25s 102ms/step - loss: 0.6477 - accuracy: 0.6871 - val_loss: 0.5094 - val_accuracy: 0.7734\n",
            "Epoch 2/10\n",
            "243/243 [==============================] - 24s 99ms/step - loss: 0.4961 - accuracy: 0.7562 - val_loss: 0.4220 - val_accuracy: 0.8203\n",
            "Epoch 3/10\n",
            "243/243 [==============================] - 24s 97ms/step - loss: 0.4354 - accuracy: 0.7952 - val_loss: 0.3733 - val_accuracy: 0.8516\n",
            "Epoch 4/10\n",
            "243/243 [==============================] - 24s 98ms/step - loss: 0.4077 - accuracy: 0.8120 - val_loss: 0.3922 - val_accuracy: 0.8281\n",
            "Epoch 5/10\n",
            "243/243 [==============================] - 24s 98ms/step - loss: 0.3703 - accuracy: 0.8288 - val_loss: 0.3957 - val_accuracy: 0.8125\n",
            "Epoch 6/10\n",
            "243/243 [==============================] - 24s 99ms/step - loss: 0.3466 - accuracy: 0.8474 - val_loss: 0.3279 - val_accuracy: 0.8438\n",
            "Epoch 7/10\n",
            "243/243 [==============================] - 24s 99ms/step - loss: 0.3204 - accuracy: 0.8559 - val_loss: 0.3121 - val_accuracy: 0.8828\n",
            "Epoch 8/10\n",
            "243/243 [==============================] - 24s 98ms/step - loss: 0.2966 - accuracy: 0.8713 - val_loss: 0.4385 - val_accuracy: 0.7812\n",
            "Epoch 9/10\n",
            "243/243 [==============================] - 25s 103ms/step - loss: 0.2865 - accuracy: 0.8792 - val_loss: 0.3145 - val_accuracy: 0.8359\n",
            "Epoch 10/10\n",
            "243/243 [==============================] - 24s 100ms/step - loss: 0.2794 - accuracy: 0.8823 - val_loss: 0.2803 - val_accuracy: 0.8594\n",
            "========================================================\n",
            "Model 2:\n",
            "Epoch 1/10\n",
            "243/243 [==============================] - 24s 99ms/step - loss: 0.6738 - accuracy: 0.6775 - val_loss: 0.5254 - val_accuracy: 0.7656\n",
            "Epoch 2/10\n",
            "243/243 [==============================] - 23s 96ms/step - loss: 0.5229 - accuracy: 0.7374 - val_loss: 0.4418 - val_accuracy: 0.7812\n",
            "Epoch 3/10\n",
            "243/243 [==============================] - 23s 97ms/step - loss: 0.4785 - accuracy: 0.7676 - val_loss: 0.4127 - val_accuracy: 0.8047\n",
            "Epoch 4/10\n",
            "243/243 [==============================] - 23s 96ms/step - loss: 0.4557 - accuracy: 0.7856 - val_loss: 0.4158 - val_accuracy: 0.8203\n",
            "Epoch 5/10\n",
            "243/243 [==============================] - 24s 97ms/step - loss: 0.4305 - accuracy: 0.7914 - val_loss: 0.3700 - val_accuracy: 0.8359\n",
            "Epoch 6/10\n",
            "243/243 [==============================] - 23s 95ms/step - loss: 0.4164 - accuracy: 0.8033 - val_loss: 0.3787 - val_accuracy: 0.8438\n",
            "Epoch 7/10\n",
            "243/243 [==============================] - 23s 96ms/step - loss: 0.3985 - accuracy: 0.8119 - val_loss: 0.4676 - val_accuracy: 0.7734\n",
            "Epoch 8/10\n",
            "243/243 [==============================] - 24s 97ms/step - loss: 0.3819 - accuracy: 0.8273 - val_loss: 0.3893 - val_accuracy: 0.8047\n",
            "Epoch 9/10\n",
            "243/243 [==============================] - 23s 96ms/step - loss: 0.3588 - accuracy: 0.8382 - val_loss: 0.3512 - val_accuracy: 0.8516\n",
            "Epoch 10/10\n",
            "243/243 [==============================] - 23s 96ms/step - loss: 0.3416 - accuracy: 0.8465 - val_loss: 0.3276 - val_accuracy: 0.8516\n"
          ],
          "name": "stdout"
        }
      ]
    },
    {
      "cell_type": "markdown",
      "metadata": {
        "id": "iY9WIE1ZvsIV"
      },
      "source": [
        "Next, let's evaluate models on validation set:"
      ]
    },
    {
      "cell_type": "code",
      "metadata": {
        "id": "8au48GjjvtSu",
        "outputId": "6b13a46b-1047-4919-8fa2-437055903e23",
        "colab": {
          "base_uri": "https://localhost:8080/",
          "height": 51
        }
      },
      "source": [
        "model1.evaluate(valid_generator, steps=STEP_SIZE_VALID)"
      ],
      "execution_count": 25,
      "outputs": [
        {
          "output_type": "stream",
          "text": [
            "4/4 [==============================] - 0s 82ms/step - loss: 0.2746 - accuracy: 0.8672\n"
          ],
          "name": "stdout"
        },
        {
          "output_type": "execute_result",
          "data": {
            "text/plain": [
              "[0.27456632256507874, 0.8671875]"
            ]
          },
          "metadata": {
            "tags": []
          },
          "execution_count": 25
        }
      ]
    },
    {
      "cell_type": "code",
      "metadata": {
        "id": "OOsbWxc9v6Vz",
        "outputId": "c3d35a3c-34bd-4abb-9638-db3f6b6b7fa7",
        "colab": {
          "base_uri": "https://localhost:8080/",
          "height": 51
        }
      },
      "source": [
        "model2.evaluate(valid_generator, steps=STEP_SIZE_VALID)"
      ],
      "execution_count": 26,
      "outputs": [
        {
          "output_type": "stream",
          "text": [
            "4/4 [==============================] - 0s 85ms/step - loss: 0.3494 - accuracy: 0.8359\n"
          ],
          "name": "stdout"
        },
        {
          "output_type": "execute_result",
          "data": {
            "text/plain": [
              "[0.349384069442749, 0.8359375]"
            ]
          },
          "metadata": {
            "tags": []
          },
          "execution_count": 26
        }
      ]
    },
    {
      "cell_type": "code",
      "metadata": {
        "id": "gvJf1saQ72qo",
        "outputId": "bbd65b5e-98b6-420f-885e-5c98f455d56d",
        "colab": {
          "base_uri": "https://localhost:8080/",
          "height": 573
        }
      },
      "source": [
        "# summarize history for accuracy\n",
        "plt.plot(history1.history['accuracy'])\n",
        "plt.plot(history1.history['val_accuracy'])\n",
        "plt.title('Model 1, Accuracy')\n",
        "plt.ylabel('Accuracy')\n",
        "plt.xlabel('Epoch')\n",
        "plt.legend(['Train', 'Validation'], loc='upper left')\n",
        "plt.show()\n",
        "\n",
        "# summarize history for loss\n",
        "plt.plot(history1.history['loss'])\n",
        "plt.plot(history1.history['val_loss'])\n",
        "plt.title('Model 1, Loss')\n",
        "plt.ylabel('loss')\n",
        "plt.xlabel('epoch')\n",
        "plt.legend(['Train', 'Validation'], loc='upper left')\n",
        "plt.show()\n"
      ],
      "execution_count": 27,
      "outputs": [
        {
          "output_type": "display_data",
          "data": {
            "image/png": "[encoded data removed]",
            "text/plain": [
              "<Figure size 432x288 with 1 Axes>"
            ]
          },
          "metadata": {
            "tags": [],
            "needs_background": "light"
          }
        },
        {
          "output_type": "display_data",
          "data": {
            "image/png": "[encoded data removed]",
            "text/plain": [
              "<Figure size 432x288 with 1 Axes>"
            ]
          },
          "metadata": {
            "tags": [],
            "needs_background": "light"
          }
        }
      ]
    },
    {
      "cell_type": "code",
      "metadata": {
        "id": "lYEzIDJ8kyxQ",
        "outputId": "f44afadb-b651-4873-c7bd-299f86430e1a",
        "colab": {
          "base_uri": "https://localhost:8080/",
          "height": 573
        }
      },
      "source": [
        "# summarize history for accuracy\n",
        "plt.plot(history2.history['accuracy'])\n",
        "plt.plot(history2.history['val_accuracy'])\n",
        "plt.title('Model 2, Accuracy')\n",
        "plt.ylabel('Accuracy')\n",
        "plt.xlabel('Epoch')\n",
        "plt.legend(['Train', 'Validation'], loc='upper left')\n",
        "plt.show()\n",
        "\n",
        "# summarize history for loss\n",
        "plt.plot(history2.history['loss'])\n",
        "plt.plot(history2.history['val_loss'])\n",
        "plt.title('Model 2, Loss')\n",
        "plt.ylabel('Loss')\n",
        "plt.xlabel('Epoch')\n",
        "plt.legend(['Train', 'Validation'], loc='upper left')\n",
        "plt.show()"
      ],
      "execution_count": 28,
      "outputs": [
        {
          "output_type": "display_data",
          "data": {
            "image/png": "[encoded data removed]",
            "text/plain": [
              "<Figure size 432x288 with 1 Axes>"
            ]
          },
          "metadata": {
            "tags": [],
            "needs_background": "light"
          }
        },
        {
          "output_type": "display_data",
          "data": {
            "image/png": "[encoded data removed]",
            "text/plain": [
              "<Figure size 432x288 with 1 Axes>"
            ]
          },
          "metadata": {
            "tags": [],
            "needs_background": "light"
          }
        }
      ]
    },
    {
      "cell_type": "markdown",
      "metadata": {
        "id": "VY2TBEuD6Z3X"
      },
      "source": [
        "Based on Accuracy-Epoch and Loss-Epoch curves above, we choose Model 1. \n",
        "Finally, we check performance on test set by calculating accuracy and confusion matrix:"
      ]
    },
    {
      "cell_type": "code",
      "metadata": {
        "id": "4mRF5f9dFQoX",
        "outputId": "befe6238-ec7f-46c9-89dd-f5848a5bb5d8",
        "colab": {
          "base_uri": "https://localhost:8080/",
          "height": 102
        }
      },
      "source": [
        "STEP_SIZE_TEST = test_generator.n//test_generator.batch_size\n",
        "test_generator.reset()\n",
        "\n",
        "prob = model1.predict(test_generator, steps=STEP_SIZE_TEST, verbose=1)\n",
        "y_pred = prob.argmax(axis=-1)\n",
        "\n",
        "y_true = test_generator.labels\n",
        "acc = np.mean(y_pred==y_true)\n",
        "\n",
        "print('Accuracy:', acc)\n",
        "\n",
        "print('Confusion matrix:')\n",
        "print(confusion_matrix(y_true, y_pred))"
      ],
      "execution_count": 32,
      "outputs": [
        {
          "output_type": "stream",
          "text": [
            "140/140 [==============================] - 1s 4ms/step\n",
            "Accuracy: 0.7785714285714286\n",
            "Confusion matrix:\n",
            "[[39 16]\n",
            " [15 70]]\n"
          ],
          "name": "stdout"
        }
      ]
    }
  ]
}